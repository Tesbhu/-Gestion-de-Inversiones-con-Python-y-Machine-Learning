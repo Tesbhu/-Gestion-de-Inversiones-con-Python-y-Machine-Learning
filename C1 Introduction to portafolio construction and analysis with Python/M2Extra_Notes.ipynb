{
 "cells": [
  {
   "attachments": {},
   "cell_type": "markdown",
   "metadata": {},
   "source": [
    "# <center> Teoria y Ejemplos de la Semana 2\n"
   ]
  },
  {
   "cell_type": "code",
   "execution_count": 1,
   "metadata": {},
   "outputs": [],
   "source": [
    "import pandas as pd\n",
    "import numpy as np\n",
    "import matplotlib.pyplot as plt\n",
    "import scipy.stats \n",
    "from pandas_datareader import data \n",
    "from datetime import datetime\n",
    "from scipy.optimize import minimize"
   ]
  },
  {
   "cell_type": "code",
   "execution_count": 2,
   "metadata": {},
   "outputs": [],
   "source": [
    "%load_ext autoreload\n",
    "%autoreload 2\n",
    "%matplotlib inline"
   ]
  },
  {
   "cell_type": "code",
   "execution_count": 3,
   "metadata": {},
   "outputs": [],
   "source": [
    "import sys\n",
    "sys.path.append(\"../\")\n",
    "import edhec_risk_kit as erk"
   ]
  },
  {
   "cell_type": "code",
   "execution_count": 4,
   "metadata": {},
   "outputs": [],
   "source": [
    "# using seaborn style (type plt.style.available to see available styles)\n",
    "plt.style.use(\"seaborn-dark\")"
   ]
  },
  {
   "attachments": {},
   "cell_type": "markdown",
   "metadata": {},
   "source": [
    "## Teoría moderna de la cartera (MPT)\n",
    "La **teoría moderna de la cartera (MPT)** es un marco matemático **para ensamblar una cartera de activos de modo que el rendimiento esperado se maximice para un nivel dado de volatilidad**. Es una formalización de la **diversificación en la inversión**, es decir, la idea de que poseer diferentes tipos de activos financieros es menos riesgoso que poseer un único activo.\n",
    "\n",
    "## Fronteras Eficientes\n",
    "\n",
    "En el MPT, la **frontera eficiente** es una curva que indica la parte **eficiente** del plano de **volatilidad-retorno**. Formalmente, es el conjunto de carteras que se pueden construir con los activos de entrada dados que tienen los rendimientos esperados máximos para un nivel fijo de volatilidad y, a su vez, las volatilidades más bajas para un nivel fijo de rendimiento esperado. La frontera eficiente fue formulada por primera vez por **Harry Markowitz** (1952).\n",
    "\n",
    "Tenemos que construir una cartera de varios activos y **queremos encontrar los porcentajes óptimos de inversión que se asignarán a estos activos** para que, por ejemplo, el rendimiento total (esperado) de dicha cartera se maximice para un nivel dado de volatilidad.\n",
    "\n",
    "Supongamos que tenemos $N > 1$ acciones y decidimos invertir nuestro capital en ellas. Sea $w:=(w_1, \\ldots ,w_N)^T$, con $w_i \\in (0,1)$ para todos $i =1, \\ldots ,N$, donde cada\n",
    "$w_i$ representa la proporción de la inversión (un porcentaje del capital invertido) en activos $i$. Estas cantidades $w_i$ son los pesos.\n",
    "\n",
    "Dado que invertimos todo nuestro capital, existe $\\sum_{i=1}^N w_i =1$ (esta es una estrategia de sólo largo plazo).\n",
    "\n",
    "Sean $R_i$ y $R_p$ el rendimiento del activo $i$ y $p$ la rentabilidad total de la cartera, respectivamente. Del mismo modo, sea $\\sigma_i$\n",
    " y $\\sigma_p$ ​​la volatilidad del activo $i$ y $p$ la volatilidad de la cartera, respectivamente.\n",
    "\n",
    "## Retorno de una cartera\n",
    "\n",
    "El **rendimiento total de la cartera** será un promedio ponderado simple de los rendimientos (totales) de los activos individuales, es decir,\n",
    "$$ R_p = \\sum_{i=1}^N w_i R_i = w^T R,$$\n",
    " \n",
    "dónde $R:=(R_1,\\ldots ,R_N)^T$. Tenga en cuenta que si tenemos un conjunto de **datos de rendimientos anteriores**, el rendimiento total $R_p$ se calcula como arriba usando los retornos de los datos pasados. En cambio, si vamos a invertir ahora, no tenemos una serie de rentabilidades (pasadas) verdaderas, sino que tendríamos **rentabilidades esperadas**. Por tanto, en este caso tendríamos el valor maean\n",
    "$E$ en la fórmula anterior.\n",
    "\n",
    "## Volatilidad de una cartera\n",
    "\n",
    "La **volatilidad de la cartera** se calcula como la (raíz cuadrada de) la varianza de la suma ponderada de los rendimientos de los activos individuales.\n",
    "\n",
    "Consideremos un ejemplo con solo dos activos. Tenemos $w_1$ y $w_2$ y dos activos cuyos rendimientos son $R_1$ y $R_2$. Tenemos:\n",
    "\n",
    "dónde \n",
    "$$ Cov(R_1,R_2):=E[(R_1 - \\mu_1)(R_2 -\\mu2)],$$\n",
    "es la covarianza entre los dos activos y\n",
    " y\n",
    " denoten sus rendimientos medios, respectivamente. En particular, si dejamos\n",
    " \n",
    "denotemos el coeficiente de correlación entre los activos, entonces la volatilidad de un\n",
    " cartera de activos se convierte en:\n",
    "Tenga en cuenta que, utilizando la notación matricial, podemos escribir en forma compacta tal volatilidad. Eso es:\n",
    "  \n",
    " \n",
    " \n",
    "dónde\n",
    " es la matriz de covarianza cuadrada simétrica.\n",
    "\n",
    "Ahora bien, en caso de $N$ acciones, sea de nuevo $\\Sigma = [c_{ij}]$ la matriz de $N\\times N$ de covarianza donde cada elemento $c_{ij}:=\\sigma_i \\sigma_j$, para\n",
    ", denota la covarianza entre activos\n",
    " y activo\n",
    ", y con\n",
    ",\n",
    ", y\n",
    " siendo las volatilidades y los coeficientes de correlación de los activos\n",
    " y\n",
    ", respectivamente. por supuesto, cuando\n",
    ",\n",
    " es simplemente la varianza del activo\n",
    " (estas son las entradas diagonales de la matriz de covarianza).\n",
    "\n",
    "La volatilidad de la cartera viene dada entonces por:\n",
    "$$ \\sigma_p = \\sqrt{W^TEw}$$\n",
    "\n",
    "## Fronteras eficientes de carteras de 2 activos\n",
    "\n",
    "A continuación, proponemos un ejemplo artificial para ver la curva que dibujan diferentes carteras que se construyen con sólo 2 activos con diferente correlación\n",
    "$\\rho_{12}$. En primer lugar, suponemos generar 500 devoluciones diarias de 2 activos:\n"
   ]
  },
  {
   "cell_type": "code",
   "execution_count": 5,
   "metadata": {},
   "outputs": [],
   "source": [
    "nret             = 500\n",
    "periods_per_year = 252\n",
    "risk_free_rate   = 0.0"
   ]
  },
  {
   "attachments": {},
   "cell_type": "markdown",
   "metadata": {},
   "source": [
    "Luego, establecemos un valor para los medios y la volatilidad de nuestros dos activos artificiales:"
   ]
  },
  {
   "cell_type": "code",
   "execution_count": 6,
   "metadata": {},
   "outputs": [],
   "source": [
    "mean_1 = 0.001019\n",
    "mean_2 = 0.001249\n",
    "vol_1  = 0.016317\n",
    "vol_2  = 0.019129"
   ]
  },
  {
   "attachments": {},
   "cell_type": "markdown",
   "metadata": {},
   "source": [
    "\n",
    "y nos instalamos 6 correlaciones de los dos activos, y para cada correlación fija, generaremos 20 carteras asignando 20 pares de pesos:"
   ]
  },
  {
   "cell_type": "code",
   "execution_count": 7,
   "metadata": {},
   "outputs": [],
   "source": [
    "# La correlación va de 1 (completamente correlacionado) a -1 (inversamente correlacionado)\n",
    "rhos  = np.linspace(1,-1,num=6) \n",
    "ncorr = len(rhos)\n",
    "\n",
    "# Pares de ponderaciones que se utilizarán para construir las carteras para cualquier correlación dada\n",
    "nweig = 20\n",
    "w1 = np.linspace(0,1,num=nweig)\n",
    "w2 = 1 - np.linspace(0,1,num=nweig)\n",
    "ww = pd.DataFrame( [w1, w2] ).T  "
   ]
  },
  {
   "cell_type": "code",
   "execution_count": 12,
   "metadata": {},
   "outputs": [
    {
     "data": {
      "image/png": "[encoded data removed]",
      "text/plain": [
       "<Figure size 1440x288 with 6 Axes>"
      ]
     },
     "metadata": {},
     "output_type": "display_data"
    }
   ],
   "source": [
    "# Set seed\n",
    "np.random.seed(1)\n",
    "\n",
    "# Open the figure\n",
    "fig, ax = plt.subplots(1,6, figsize=(20,4))    \n",
    "ax = ax.flatten()\n",
    "for k_rho, rho in enumerate(rhos):\n",
    "    # Allocate an empty portfolio \n",
    "    portfolio = pd.DataFrame(columns=[\"return\",\"volatility\",\"sharpe ratio\"])\n",
    "\n",
    "    # Generate the assets' returns with the given correlation rho\n",
    "    cov_ij     = rho * vol_1 * vol_2\n",
    "    cov_rets   = pd.DataFrame( [[vol_1**2, cov_ij], [cov_ij, vol_2**2]] )\n",
    "    daily_rets = pd.DataFrame( np.random.multivariate_normal((mean_1,mean_2), cov_rets.values, nret) )\n",
    "    for i in range(ww.shape[0]):\n",
    "        # Now, construct the portfolio of two asset with correlation rho and weights ww.loc[i]\n",
    "        weights = ww.loc[i] \n",
    "        # here, weights is a column vector (pd.Series)\n",
    "\n",
    "        # annualized portfolio returns\n",
    "        ann_rets      = erk.annualize_rets(daily_rets, periods_per_year)\n",
    "        portfolio_ret = erk.portfolio_return(weights, ann_rets)        \n",
    "\n",
    "\n",
    "    \n",
    "\n"
   ]
  },
  {
   "attachments": {},
   "cell_type": "markdown",
   "metadata": {},
   "source": [
    "Para cualquier correlación dada, cada punto representa el par (rendimiento, volatilidad) de una cartera construida con alguna asignación porcentual. Esto se puede ver en la barra de colores: el **rojo corresponde a** $w = (0,1)$, es decir, asignación de dinero solo al primer activo, mientras que el **azul corresponde** a\n",
    "$w=(0,1)$, es decir, asignación de dinero solo del segundo activo.\n",
    "\n",
    "Podemos ver que **cuanto menor sea la correlación entre los activos, mejor será la compensación entre el rendimiento y la volatilidad:** en este ejemplo, cuando\n",
    "$\\rho = -1$, podríamos en principio construir una cartera que garantice alrededor de $30\\%$\n",
    " de rentabilidad casi sin volatilidad.\n",
    "\n",
    "## Ejemplo del mundo real: acciones de EE. UU.\n",
    "\n",
    "Ahora obtendremos las series temporales de algunas acciones de la economía estadounidense y veremos cómo construir una cartera de manera eficiente."
   ]
  },
  {
   "cell_type": "code",
   "execution_count": 15,
   "metadata": {},
   "outputs": [
    {
     "ename": "TypeError",
     "evalue": "string indices must be integers",
     "output_type": "error",
     "traceback": [
      "\u001b[1;31m---------------------------------------------------------------------------\u001b[0m",
      "\u001b[1;31mTypeError\u001b[0m                                 Traceback (most recent call last)",
      "\u001b[1;32mc:\\Users\\tesbh\\OneDrive\\Escritorio\\Python\\Specialization - Investment Managent With Python and ML\\C1- Intro to Port Construction & Analysis W-Py\\M2Extra_Notes.ipynb Celda 14\u001b[0m in \u001b[0;36m<cell line: 5>\u001b[1;34m()\u001b[0m\n\u001b[0;32m      <a href='vscode-notebook-cell:/c%3A/Users/tesbh/OneDrive/Escritorio/Python/Specialization%20-%20Investment%20Managent%20With%20Python%20and%20ML/C1-%20Intro%20to%20Port%20Construction%20%26%20Analysis%20W-Py/M2Extra_Notes.ipynb#X20sZmlsZQ%3D%3D?line=3'>4</a>\u001b[0m stocks \u001b[39m=\u001b[39m pd\u001b[39m.\u001b[39mDataFrame()\n\u001b[0;32m      <a href='vscode-notebook-cell:/c%3A/Users/tesbh/OneDrive/Escritorio/Python/Specialization%20-%20Investment%20Managent%20With%20Python%20and%20ML/C1-%20Intro%20to%20Port%20Construction%20%26%20Analysis%20W-Py/M2Extra_Notes.ipynb#X20sZmlsZQ%3D%3D?line=4'>5</a>\u001b[0m \u001b[39mfor\u001b[39;00m stock_name \u001b[39min\u001b[39;00m tickers:\n\u001b[0;32m      <a href='vscode-notebook-cell:/c%3A/Users/tesbh/OneDrive/Escritorio/Python/Specialization%20-%20Investment%20Managent%20With%20Python%20and%20ML/C1-%20Intro%20to%20Port%20Construction%20%26%20Analysis%20W-Py/M2Extra_Notes.ipynb#X20sZmlsZQ%3D%3D?line=5'>6</a>\u001b[0m     \u001b[39m# daily data\u001b[39;00m\n\u001b[1;32m----> <a href='vscode-notebook-cell:/c%3A/Users/tesbh/OneDrive/Escritorio/Python/Specialization%20-%20Investment%20Managent%20With%20Python%20and%20ML/C1-%20Intro%20to%20Port%20Construction%20%26%20Analysis%20W-Py/M2Extra_Notes.ipynb#X20sZmlsZQ%3D%3D?line=6'>7</a>\u001b[0m     stocks[stock_name] \u001b[39m=\u001b[39m data\u001b[39m.\u001b[39;49mDataReader(stock_name, data_source\u001b[39m=\u001b[39;49m\u001b[39m\"\u001b[39;49m\u001b[39myahoo\u001b[39;49m\u001b[39m\"\u001b[39;49m, \n\u001b[0;32m      <a href='vscode-notebook-cell:/c%3A/Users/tesbh/OneDrive/Escritorio/Python/Specialization%20-%20Investment%20Managent%20With%20Python%20and%20ML/C1-%20Intro%20to%20Port%20Construction%20%26%20Analysis%20W-Py/M2Extra_Notes.ipynb#X20sZmlsZQ%3D%3D?line=7'>8</a>\u001b[0m                                          start\u001b[39m=\u001b[39;49mdatetime(\u001b[39m2011\u001b[39;49m,\u001b[39m1\u001b[39;49m,\u001b[39m1\u001b[39;49m), end\u001b[39m=\u001b[39;49mdatetime(\u001b[39m2019\u001b[39;49m,\u001b[39m1\u001b[39;49m,\u001b[39m1\u001b[39;49m))[\u001b[39m\"\u001b[39m\u001b[39mAdj Close\u001b[39m\u001b[39m\"\u001b[39m]\n",
      "File \u001b[1;32mc:\\Users\\tesbh\\AppData\\Local\\Programs\\Python\\Python310\\lib\\site-packages\\pandas\\util\\_decorators.py:207\u001b[0m, in \u001b[0;36mdeprecate_kwarg.<locals>._deprecate_kwarg.<locals>.wrapper\u001b[1;34m(*args, **kwargs)\u001b[0m\n\u001b[0;32m    205\u001b[0m     \u001b[39melse\u001b[39;00m:\n\u001b[0;32m    206\u001b[0m         kwargs[new_arg_name] \u001b[39m=\u001b[39m new_arg_value\n\u001b[1;32m--> 207\u001b[0m \u001b[39mreturn\u001b[39;00m func(\u001b[39m*\u001b[39margs, \u001b[39m*\u001b[39m\u001b[39m*\u001b[39mkwargs)\n",
      "File \u001b[1;32mc:\\Users\\tesbh\\AppData\\Local\\Programs\\Python\\Python310\\lib\\site-packages\\pandas_datareader\\data.py:379\u001b[0m, in \u001b[0;36mDataReader\u001b[1;34m(name, data_source, start, end, retry_count, pause, session, api_key)\u001b[0m\n\u001b[0;32m    367\u001b[0m     \u001b[39mraise\u001b[39;00m \u001b[39mNotImplementedError\u001b[39;00m(msg)\n\u001b[0;32m    369\u001b[0m \u001b[39mif\u001b[39;00m data_source \u001b[39m==\u001b[39m \u001b[39m\"\u001b[39m\u001b[39myahoo\u001b[39m\u001b[39m\"\u001b[39m:\n\u001b[0;32m    370\u001b[0m     \u001b[39mreturn\u001b[39;00m YahooDailyReader(\n\u001b[0;32m    371\u001b[0m         symbols\u001b[39m=\u001b[39;49mname,\n\u001b[0;32m    372\u001b[0m         start\u001b[39m=\u001b[39;49mstart,\n\u001b[0;32m    373\u001b[0m         end\u001b[39m=\u001b[39;49mend,\n\u001b[0;32m    374\u001b[0m         adjust_price\u001b[39m=\u001b[39;49m\u001b[39mFalse\u001b[39;49;00m,\n\u001b[0;32m    375\u001b[0m         chunksize\u001b[39m=\u001b[39;49m\u001b[39m25\u001b[39;49m,\n\u001b[0;32m    376\u001b[0m         retry_count\u001b[39m=\u001b[39;49mretry_count,\n\u001b[0;32m    377\u001b[0m         pause\u001b[39m=\u001b[39;49mpause,\n\u001b[0;32m    378\u001b[0m         session\u001b[39m=\u001b[39;49msession,\n\u001b[1;32m--> 379\u001b[0m     )\u001b[39m.\u001b[39;49mread()\n\u001b[0;32m    381\u001b[0m \u001b[39melif\u001b[39;00m data_source \u001b[39m==\u001b[39m \u001b[39m\"\u001b[39m\u001b[39miex\u001b[39m\u001b[39m\"\u001b[39m:\n\u001b[0;32m    382\u001b[0m     \u001b[39mreturn\u001b[39;00m IEXDailyReader(\n\u001b[0;32m    383\u001b[0m         symbols\u001b[39m=\u001b[39mname,\n\u001b[0;32m    384\u001b[0m         start\u001b[39m=\u001b[39mstart,\n\u001b[1;32m   (...)\u001b[0m\n\u001b[0;32m    390\u001b[0m         session\u001b[39m=\u001b[39msession,\n\u001b[0;32m    391\u001b[0m     )\u001b[39m.\u001b[39mread()\n",
      "File \u001b[1;32mc:\\Users\\tesbh\\AppData\\Local\\Programs\\Python\\Python310\\lib\\site-packages\\pandas_datareader\\base.py:253\u001b[0m, in \u001b[0;36m_DailyBaseReader.read\u001b[1;34m(self)\u001b[0m\n\u001b[0;32m    251\u001b[0m \u001b[39m# If a single symbol, (e.g., 'GOOG')\u001b[39;00m\n\u001b[0;32m    252\u001b[0m \u001b[39mif\u001b[39;00m \u001b[39misinstance\u001b[39m(\u001b[39mself\u001b[39m\u001b[39m.\u001b[39msymbols, (string_types, \u001b[39mint\u001b[39m)):\n\u001b[1;32m--> 253\u001b[0m     df \u001b[39m=\u001b[39m \u001b[39mself\u001b[39;49m\u001b[39m.\u001b[39;49m_read_one_data(\u001b[39mself\u001b[39;49m\u001b[39m.\u001b[39;49murl, params\u001b[39m=\u001b[39;49m\u001b[39mself\u001b[39;49m\u001b[39m.\u001b[39;49m_get_params(\u001b[39mself\u001b[39;49m\u001b[39m.\u001b[39;49msymbols))\n\u001b[0;32m    254\u001b[0m \u001b[39m# Or multiple symbols, (e.g., ['GOOG', 'AAPL', 'MSFT'])\u001b[39;00m\n\u001b[0;32m    255\u001b[0m \u001b[39melif\u001b[39;00m \u001b[39misinstance\u001b[39m(\u001b[39mself\u001b[39m\u001b[39m.\u001b[39msymbols, DataFrame):\n",
      "File \u001b[1;32mc:\\Users\\tesbh\\AppData\\Local\\Programs\\Python\\Python310\\lib\\site-packages\\pandas_datareader\\yahoo\\daily.py:153\u001b[0m, in \u001b[0;36mYahooDailyReader._read_one_data\u001b[1;34m(self, url, params)\u001b[0m\n\u001b[0;32m    151\u001b[0m \u001b[39mtry\u001b[39;00m:\n\u001b[0;32m    152\u001b[0m     j \u001b[39m=\u001b[39m json\u001b[39m.\u001b[39mloads(re\u001b[39m.\u001b[39msearch(ptrn, resp\u001b[39m.\u001b[39mtext, re\u001b[39m.\u001b[39mDOTALL)\u001b[39m.\u001b[39mgroup(\u001b[39m1\u001b[39m))\n\u001b[1;32m--> 153\u001b[0m     data \u001b[39m=\u001b[39m j[\u001b[39m\"\u001b[39;49m\u001b[39mcontext\u001b[39;49m\u001b[39m\"\u001b[39;49m][\u001b[39m\"\u001b[39;49m\u001b[39mdispatcher\u001b[39;49m\u001b[39m\"\u001b[39;49m][\u001b[39m\"\u001b[39;49m\u001b[39mstores\u001b[39;49m\u001b[39m\"\u001b[39;49m][\u001b[39m\"\u001b[39;49m\u001b[39mHistoricalPriceStore\u001b[39;49m\u001b[39m\"\u001b[39;49m]\n\u001b[0;32m    154\u001b[0m \u001b[39mexcept\u001b[39;00m \u001b[39mKeyError\u001b[39;00m:\n\u001b[0;32m    155\u001b[0m     msg \u001b[39m=\u001b[39m \u001b[39m\"\u001b[39m\u001b[39mNo data fetched for symbol \u001b[39m\u001b[39m{}\u001b[39;00m\u001b[39m using \u001b[39m\u001b[39m{}\u001b[39;00m\u001b[39m\"\u001b[39m\n",
      "\u001b[1;31mTypeError\u001b[0m: string indices must be integers"
     ]
    }
   ],
   "source": [
    "tickers  = ['AMZN','KO','MSFT']\n",
    "n_assets = len(tickers) \n",
    "\n",
    "stocks = pd.DataFrame()\n",
    "for stock_name in tickers:\n",
    "    # daily data\n",
    "    stocks[stock_name] = data.DataReader(stock_name, data_source=\"yahoo\", \n",
    "                                         start=datetime(2011,1,1), end=datetime(2019,1,1))[\"Adj Close\"]   \n",
    "    \n"
   ]
  },
  {
   "cell_type": "markdown",
   "metadata": {},
   "source": []
  }
 ],
 "metadata": {
  "kernelspec": {
   "display_name": "Python 3",
   "language": "python",
   "name": "python3"
  },
  "language_info": {
   "codemirror_mode": {
    "name": "ipython",
    "version": 3
   },
   "file_extension": ".py",
   "mimetype": "text/x-python",
   "name": "python",
   "nbconvert_exporter": "python",
   "pygments_lexer": "ipython3",
   "version": "3.10.4"
  },
  "orig_nbformat": 4
 },
 "nbformat": 4,
 "nbformat_minor": 2
}
